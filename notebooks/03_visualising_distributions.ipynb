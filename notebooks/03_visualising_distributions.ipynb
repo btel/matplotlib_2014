{
 "metadata": {
  "name": "",
  "signature": "sha256:9149b54be23f15e8f06b919698d4b4d708c668910190e5d20f236fcf7c2ba0e4"
 },
 "nbformat": 3,
 "nbformat_minor": 0,
 "worksheets": [
  {
   "cells": [
    {
     "cell_type": "code",
     "collapsed": false,
     "input": [
      "import pandas as pd\n",
      "import matplotlib.pyplot as plt\n",
      "import numpy as np\n",
      "from IPython.display import HTML\n",
      "\n",
      "%matplotlib inline"
     ],
     "language": "python",
     "metadata": {},
     "outputs": [],
     "prompt_number": 1
    },
    {
     "cell_type": "code",
     "collapsed": true,
     "input": [
      "df = pd.read_csv('../data/gdp_wordbank.csv', \n",
      "                 index_col=[1,2], na_values=['..'])\n",
      "df_selected = df.ix[u'NY.GDP.PCAP.KD']"
     ],
     "language": "python",
     "metadata": {},
     "outputs": [],
     "prompt_number": 2
    },
    {
     "cell_type": "code",
     "collapsed": false,
     "input": [
      "HTML(df_selected[:10].to_html(float_format=lambda x:'%.1f' %x))"
     ],
     "language": "python",
     "metadata": {},
     "outputs": [
      {
       "html": [
        "<table border=\"1\" class=\"dataframe\">\n",
        "  <thead>\n",
        "    <tr style=\"text-align: right;\">\n",
        "      <th></th>\n",
        "      <th>\ufeffSeries Name</th>\n",
        "      <th>Country Code</th>\n",
        "      <th>2004 [YR2004]</th>\n",
        "      <th>2005 [YR2005]</th>\n",
        "      <th>2006 [YR2006]</th>\n",
        "      <th>2007 [YR2007]</th>\n",
        "      <th>2008 [YR2008]</th>\n",
        "      <th>2009 [YR2009]</th>\n",
        "      <th>2010 [YR2010]</th>\n",
        "      <th>2011 [YR2011]</th>\n",
        "      <th>2012 [YR2012]</th>\n",
        "      <th>2013 [YR2013]</th>\n",
        "    </tr>\n",
        "    <tr>\n",
        "      <th>Country Name</th>\n",
        "      <th></th>\n",
        "      <th></th>\n",
        "      <th></th>\n",
        "      <th></th>\n",
        "      <th></th>\n",
        "      <th></th>\n",
        "      <th></th>\n",
        "      <th></th>\n",
        "      <th></th>\n",
        "      <th></th>\n",
        "      <th></th>\n",
        "      <th></th>\n",
        "    </tr>\n",
        "  </thead>\n",
        "  <tbody>\n",
        "    <tr>\n",
        "      <th>Afghanistan</th>\n",
        "      <td> GDP per capita (constant 2005 US$)</td>\n",
        "      <td> AFG</td>\n",
        "      <td>  235.0</td>\n",
        "      <td>  252.4</td>\n",
        "      <td>  258.4</td>\n",
        "      <td>  285.9</td>\n",
        "      <td>  288.8</td>\n",
        "      <td>  340.9</td>\n",
        "      <td>  360.7</td>\n",
        "      <td>  373.5</td>\n",
        "      <td>  417.1</td>\n",
        "      <td>  424.4</td>\n",
        "    </tr>\n",
        "    <tr>\n",
        "      <th>Albania</th>\n",
        "      <td> GDP per capita (constant 2005 US$)</td>\n",
        "      <td> ALB</td>\n",
        "      <td> 2633.8</td>\n",
        "      <td> 2798.9</td>\n",
        "      <td> 2963.4</td>\n",
        "      <td> 3167.2</td>\n",
        "      <td> 3444.2</td>\n",
        "      <td> 3592.7</td>\n",
        "      <td> 3754.4</td>\n",
        "      <td> 3904.4</td>\n",
        "      <td> 3994.2</td>\n",
        "      <td> 4087.1</td>\n",
        "    </tr>\n",
        "    <tr>\n",
        "      <th>Algeria</th>\n",
        "      <td> GDP per capita (constant 2005 US$)</td>\n",
        "      <td> DZA</td>\n",
        "      <td> 2912.3</td>\n",
        "      <td> 3038.7</td>\n",
        "      <td> 3041.5</td>\n",
        "      <td> 3092.0</td>\n",
        "      <td> 3098.4</td>\n",
        "      <td> 3091.1</td>\n",
        "      <td> 3143.6</td>\n",
        "      <td> 3171.7</td>\n",
        "      <td> 3215.2</td>\n",
        "      <td> 3240.8</td>\n",
        "    </tr>\n",
        "    <tr>\n",
        "      <th>American Samoa</th>\n",
        "      <td> GDP per capita (constant 2005 US$)</td>\n",
        "      <td> ASM</td>\n",
        "      <td>    nan</td>\n",
        "      <td>    nan</td>\n",
        "      <td>    nan</td>\n",
        "      <td>    nan</td>\n",
        "      <td>    nan</td>\n",
        "      <td>    nan</td>\n",
        "      <td>    nan</td>\n",
        "      <td>    nan</td>\n",
        "      <td>    nan</td>\n",
        "      <td>    nan</td>\n",
        "    </tr>\n",
        "    <tr>\n",
        "      <th>Andorra</th>\n",
        "      <td> GDP per capita (constant 2005 US$)</td>\n",
        "      <td> ADO</td>\n",
        "      <td>30329.6</td>\n",
        "      <td>31269.0</td>\n",
        "      <td>33125.4</td>\n",
        "      <td>33840.2</td>\n",
        "      <td>35628.4</td>\n",
        "      <td>    nan</td>\n",
        "      <td>    nan</td>\n",
        "      <td>    nan</td>\n",
        "      <td>    nan</td>\n",
        "      <td>    nan</td>\n",
        "    </tr>\n",
        "    <tr>\n",
        "      <th>Angola</th>\n",
        "      <td> GDP per capita (constant 2005 US$)</td>\n",
        "      <td> AGO</td>\n",
        "      <td> 1494.3</td>\n",
        "      <td> 1706.5</td>\n",
        "      <td> 1990.8</td>\n",
        "      <td> 2359.3</td>\n",
        "      <td> 2597.1</td>\n",
        "      <td> 2573.7</td>\n",
        "      <td> 2576.6</td>\n",
        "      <td> 2593.8</td>\n",
        "      <td> 2644.6</td>\n",
        "      <td> 2668.5</td>\n",
        "    </tr>\n",
        "    <tr>\n",
        "      <th>Antigua and Barbuda</th>\n",
        "      <td> GDP per capita (constant 2005 US$)</td>\n",
        "      <td> ATG</td>\n",
        "      <td>11554.8</td>\n",
        "      <td>12135.5</td>\n",
        "      <td>13629.5</td>\n",
        "      <td>14678.5</td>\n",
        "      <td>14523.4</td>\n",
        "      <td>12635.3</td>\n",
        "      <td>11603.1</td>\n",
        "      <td>11251.8</td>\n",
        "      <td>11504.8</td>\n",
        "      <td>11461.6</td>\n",
        "    </tr>\n",
        "    <tr>\n",
        "      <th>Argentina</th>\n",
        "      <td> GDP per capita (constant 2005 US$)</td>\n",
        "      <td> ARG</td>\n",
        "      <td> 5328.6</td>\n",
        "      <td> 5767.7</td>\n",
        "      <td> 6195.4</td>\n",
        "      <td>    nan</td>\n",
        "      <td>    nan</td>\n",
        "      <td>    nan</td>\n",
        "      <td>    nan</td>\n",
        "      <td>    nan</td>\n",
        "      <td>    nan</td>\n",
        "      <td>    nan</td>\n",
        "    </tr>\n",
        "    <tr>\n",
        "      <th>Armenia</th>\n",
        "      <td> GDP per capita (constant 2005 US$)</td>\n",
        "      <td> ARM</td>\n",
        "      <td> 1422.4</td>\n",
        "      <td> 1625.4</td>\n",
        "      <td> 1847.3</td>\n",
        "      <td> 2110.4</td>\n",
        "      <td> 2265.4</td>\n",
        "      <td> 1951.0</td>\n",
        "      <td> 1997.0</td>\n",
        "      <td> 2090.5</td>\n",
        "      <td> 2237.2</td>\n",
        "      <td> 2309.7</td>\n",
        "    </tr>\n",
        "    <tr>\n",
        "      <th>Aruba</th>\n",
        "      <td> GDP per capita (constant 2005 US$)</td>\n",
        "      <td> ABW</td>\n",
        "      <td>23517.6</td>\n",
        "      <td>23302.8</td>\n",
        "      <td>23662.6</td>\n",
        "      <td>22710.2</td>\n",
        "      <td>21121.4</td>\n",
        "      <td>19912.8</td>\n",
        "      <td>    nan</td>\n",
        "      <td>    nan</td>\n",
        "      <td>    nan</td>\n",
        "      <td>    nan</td>\n",
        "    </tr>\n",
        "  </tbody>\n",
        "</table>"
       ],
       "metadata": {},
       "output_type": "pyout",
       "prompt_number": 3,
       "text": [
        "<IPython.core.display.HTML at 0x10ca5dc50>"
       ]
      }
     ],
     "prompt_number": 3
    },
    {
     "cell_type": "code",
     "collapsed": true,
     "input": [
      "gdp2012 = np.log10(np.array(df_selected['2012 [YR2012]'].dropna(), dtype=np.float32))\n",
      "plt.hist(gdp2012, 20)\n",
      "plt.xlabel('log GDP (US $)')\n",
      "plt.ylabel('n/o countries')"
     ],
     "language": "python",
     "metadata": {},
     "outputs": [
      {
       "metadata": {},
       "output_type": "pyout",
       "prompt_number": 4,
       "text": [
        "<matplotlib.text.Text at 0x110242e90>"
       ]
      },
      {
       "metadata": {},
       "output_type": "display_data",
       "png": "[encoded data removed]",
       "text": [
        "<matplotlib.figure.Figure at 0x110230610>"
       ]
      }
     ],
     "prompt_number": 4
    },
    {
     "cell_type": "code",
     "collapsed": false,
     "input": [
      "gdp2005 = np.log10(np.array(df_selected['2005 [YR2005]'].dropna(), dtype=np.float32))\n",
      "plt.plot([1,2], [np.median(gdp2005), np.median(gdp2012)], 'k--')\n",
      "plt.boxplot([gdp2005, gdp2012], labels=['2005', '2012']);\n",
      "plt.ylabel('log GDP per capita (US $)')"
     ],
     "language": "python",
     "metadata": {},
     "outputs": [
      {
       "metadata": {},
       "output_type": "pyout",
       "prompt_number": 5,
       "text": [
        "<matplotlib.text.Text at 0x110646b50>"
       ]
      },
      {
       "metadata": {},
       "output_type": "display_data",
       "png": "[encoded data removed]",
       "text": [
        "<matplotlib.figure.Figure at 0x1102d5990>"
       ]
      }
     ],
     "prompt_number": 5
    },
    {
     "cell_type": "code",
     "collapsed": false,
     "input": [
      "bins = np.linspace(gdp2012.min(), gdp2012.max(), 30)\n",
      "n2012, bins2012, patches = plt.hist(gdp2012, bins, histtype='step', \n",
      "                                    label='2012')\n",
      "n2005, bins2005, patches = plt.hist(gdp2005, bins, histtype='step', \n",
      "                                    label='2005')\n",
      "plt.xlabel('log GDP (US $)')\n",
      "plt.ylabel('n/o countries')"
     ],
     "language": "python",
     "metadata": {},
     "outputs": [
      {
       "metadata": {},
       "output_type": "pyout",
       "prompt_number": 6,
       "text": [
        "<matplotlib.text.Text at 0x110b7c790>"
       ]
      },
      {
       "metadata": {},
       "output_type": "display_data",
       "png": "[encoded data removed]",
       "text": [
        "<matplotlib.figure.Figure at 0x110b7e550>"
       ]
      }
     ],
     "prompt_number": 6
    },
    {
     "cell_type": "code",
     "collapsed": false,
     "input": [
      "from scipy import stats\n",
      "kde2005 = stats.kde.gaussian_kde(gdp2005)\n",
      "kde2012 = stats.kde.gaussian_kde(gdp2012)\n",
      "\n",
      "x = np.linspace(1, 6, 40)\n",
      "\n",
      "ax = plt.subplot(111)\n",
      "l1, = plt.plot(x, kde2005(x))\n",
      "l2, = plt.plot(x, kde2012(x), color='r')\n",
      "plt.legend([l1, l2], ['2005', '2012'], frameon=False)\n",
      "plt.vlines(gdp2012, 0.001, 0.025, color='r', lw=0.2)\n",
      "plt.vlines(gdp2005, 0.025, 0.05, color='b', lw=0.2)\n",
      "plt.xlabel('log GDP per capita (US $)')\n",
      "plt.ylabel('prob. density')\n",
      "\n",
      "plt.text(0.02, 0.92, \"Data source: Word Bank\", transform=ax.transAxes)"
     ],
     "language": "python",
     "metadata": {},
     "outputs": [
      {
       "metadata": {},
       "output_type": "pyout",
       "prompt_number": 7,
       "text": [
        "<matplotlib.text.Text at 0x111f44f10>"
       ]
      },
      {
       "metadata": {},
       "output_type": "display_data",
       "png": "[encoded data removed]",
       "text": [
        "<matplotlib.figure.Figure at 0x111de48d0>"
       ]
      }
     ],
     "prompt_number": 7
    },
    {
     "cell_type": "code",
     "collapsed": false,
     "input": [
      "print \"K-S stat: {:.2f}, p-value: {:.2f}\".format(*stats.ks_2samp(gdp2005, gdp2012))\n"
     ],
     "language": "python",
     "metadata": {},
     "outputs": [
      {
       "output_type": "stream",
       "stream": "stdout",
       "text": [
        "K-S stat: 0.05, p-value: 0.98\n"
       ]
      }
     ],
     "prompt_number": 8
    },
    {
     "cell_type": "code",
     "collapsed": false,
     "input": [],
     "language": "python",
     "metadata": {},
     "outputs": [],
     "prompt_number": 8
    }
   ],
   "metadata": {}
  }
 ]
}