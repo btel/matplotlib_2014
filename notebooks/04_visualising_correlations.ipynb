{
 "metadata": {
  "name": "",
  "signature": "sha256:ea3e387a49fbdd573f7975602488e27f7aa993bebe4eff194085b2ca8000c4c8"
 },
 "nbformat": 3,
 "nbformat_minor": 0,
 "worksheets": [
  {
   "cells": [
    {
     "cell_type": "code",
     "collapsed": false,
     "input": [
      "import matplotlib.pyplot as plt\n",
      "import numpy as np\n",
      "%matplotlib inline"
     ],
     "language": "python",
     "metadata": {},
     "outputs": [],
     "prompt_number": 1
    },
    {
     "cell_type": "code",
     "collapsed": false,
     "input": [
      "api_url = \"http://api.brain-map.org/api/v2/data/\"\n",
      "query_expression = \"query.json?criteria=service::human_microarray_expression[probes$eq{probes}][donor$eq{donor}]\"\n",
      "query_probes = \"query.xml?criteria=model::Probe,rma::criteria,[probe_type$eq'DNA'],products[abbreviation$eq'HumanMA'],gene[acronym$in{geneid}],rma::options[only$eq'probes.id']\"\n",
      "\n",
      "donor = \"'H035.2001'\"\n",
      "gene_ids=\"'SLC6A2','SCN1A'\""
     ],
     "language": "python",
     "metadata": {},
     "outputs": [],
     "prompt_number": 18
    },
    {
     "cell_type": "code",
     "collapsed": false,
     "input": [
      "import urllib2\n",
      "from contextlib import closing\n",
      "import json\n",
      "from lxml import etree\n",
      "\n",
      "request_url = api_url + query_probes.format(geneid=gene_ids)\n",
      "with closing(urllib2.urlopen(request_url)) as request:\n",
      "    xml_data = request.read()\n",
      "    tree = etree.fromstring(xml_data)\n",
      "probes = ','.join([t.text for t in tree.xpath('//probe/id')])\n",
      "\n",
      "request_url = api_url+query_expression.format(probes=probes, donor=donor)\n",
      "with closing(urllib2.urlopen(request_url)) as request:\n",
      "    probe_data = json.load(request)"
     ],
     "language": "python",
     "metadata": {},
     "outputs": [],
     "prompt_number": 19
    },
    {
     "cell_type": "code",
     "collapsed": false,
     "input": [
      "expr_lvls = dict((prb['name'], map(float, prb['expression_level']))\n",
      "                 for prb in probe_data['msg']['probes'])\n",
      "structures = [s['top_level_structure']['abbreviation'] \n",
      "              for s in probe_data['msg']['samples']]\n",
      "structure_id = [s['structure']['id'] \n",
      "                for s in probe_data['msg']['samples']]\n",
      "genes = dict((prb['name'], prb['gene-symbol'])\n",
      "                 for prb in probe_data['msg']['probes'])\n",
      "expr_lvls.update({'top_level_structure' : structures,\n",
      "                  'structure_id' : structure_id})"
     ],
     "language": "python",
     "metadata": {},
     "outputs": [],
     "prompt_number": 34
    },
    {
     "cell_type": "code",
     "collapsed": false,
     "input": [
      "import pandas as pd\n",
      "df = pd.DataFrame(expr_lvls)\n",
      "df.to_csv('../data/allen_brain_atlas.csv', index=False)"
     ],
     "language": "python",
     "metadata": {},
     "outputs": [],
     "prompt_number": 35
    },
    {
     "cell_type": "code",
     "collapsed": false,
     "input": [
      "df = pd.read_csv('../data/allen_brain_atlas.csv')\n",
      "df[:10]"
     ],
     "language": "python",
     "metadata": {},
     "outputs": [
      {
       "html": [
        "<div style=\"max-height:1000px;max-width:1500px;overflow:auto;\">\n",
        "<table border=\"1\" class=\"dataframe\">\n",
        "  <thead>\n",
        "    <tr style=\"text-align: right;\">\n",
        "      <th></th>\n",
        "      <th>A_23_P28224</th>\n",
        "      <th>A_23_P358345</th>\n",
        "      <th>CUST_16472_PI416261804</th>\n",
        "      <th>CUST_17139_PI416261804</th>\n",
        "      <th>CUST_546_PI416408490</th>\n",
        "      <th>structure_id</th>\n",
        "      <th>top_level_structure</th>\n",
        "    </tr>\n",
        "  </thead>\n",
        "  <tbody>\n",
        "    <tr>\n",
        "      <th>0</th>\n",
        "      <td> 8.8037</td>\n",
        "      <td> 1.6248</td>\n",
        "      <td> 2.3772</td>\n",
        "      <td> 5.9888</td>\n",
        "      <td> 6.8569</td>\n",
        "      <td> 4055</td>\n",
        "      <td> FL</td>\n",
        "    </tr>\n",
        "    <tr>\n",
        "      <th>1</th>\n",
        "      <td> 8.9927</td>\n",
        "      <td> 1.5055</td>\n",
        "      <td> 1.7143</td>\n",
        "      <td> 5.8315</td>\n",
        "      <td> 6.5077</td>\n",
        "      <td> 4079</td>\n",
        "      <td> FL</td>\n",
        "    </tr>\n",
        "    <tr>\n",
        "      <th>2</th>\n",
        "      <td> 8.6063</td>\n",
        "      <td> 1.5778</td>\n",
        "      <td> 2.8595</td>\n",
        "      <td> 6.0884</td>\n",
        "      <td> 6.5789</td>\n",
        "      <td> 4079</td>\n",
        "      <td> FL</td>\n",
        "    </tr>\n",
        "    <tr>\n",
        "      <th>3</th>\n",
        "      <td> 8.5581</td>\n",
        "      <td> 2.0678</td>\n",
        "      <td> 1.9892</td>\n",
        "      <td> 6.3405</td>\n",
        "      <td> 6.6196</td>\n",
        "      <td> 4079</td>\n",
        "      <td> FL</td>\n",
        "    </tr>\n",
        "    <tr>\n",
        "      <th>4</th>\n",
        "      <td> 8.7339</td>\n",
        "      <td> 1.4767</td>\n",
        "      <td> 1.4731</td>\n",
        "      <td> 5.8716</td>\n",
        "      <td> 6.4472</td>\n",
        "      <td> 4080</td>\n",
        "      <td> FL</td>\n",
        "    </tr>\n",
        "    <tr>\n",
        "      <th>5</th>\n",
        "      <td> 8.4503</td>\n",
        "      <td> 1.8223</td>\n",
        "      <td> 2.2234</td>\n",
        "      <td> 5.7434</td>\n",
        "      <td> 6.4456</td>\n",
        "      <td> 4080</td>\n",
        "      <td> FL</td>\n",
        "    </tr>\n",
        "    <tr>\n",
        "      <th>6</th>\n",
        "      <td> 8.7355</td>\n",
        "      <td> 1.5104</td>\n",
        "      <td> 1.6819</td>\n",
        "      <td> 5.9797</td>\n",
        "      <td> 6.8184</td>\n",
        "      <td> 4890</td>\n",
        "      <td> FL</td>\n",
        "    </tr>\n",
        "    <tr>\n",
        "      <th>7</th>\n",
        "      <td> 8.9026</td>\n",
        "      <td> 1.5253</td>\n",
        "      <td> 1.7685</td>\n",
        "      <td> 6.2411</td>\n",
        "      <td> 6.6980</td>\n",
        "      <td> 4890</td>\n",
        "      <td> FL</td>\n",
        "    </tr>\n",
        "    <tr>\n",
        "      <th>8</th>\n",
        "      <td> 8.7765</td>\n",
        "      <td> 2.9994</td>\n",
        "      <td> 1.7939</td>\n",
        "      <td> 6.2621</td>\n",
        "      <td> 6.8061</td>\n",
        "      <td> 4048</td>\n",
        "      <td> FL</td>\n",
        "    </tr>\n",
        "    <tr>\n",
        "      <th>9</th>\n",
        "      <td> 8.9004</td>\n",
        "      <td> 1.7628</td>\n",
        "      <td> 1.7252</td>\n",
        "      <td> 6.3940</td>\n",
        "      <td> 6.9415</td>\n",
        "      <td> 4048</td>\n",
        "      <td> FL</td>\n",
        "    </tr>\n",
        "  </tbody>\n",
        "</table>\n",
        "</div>"
       ],
       "metadata": {},
       "output_type": "pyout",
       "prompt_number": 36,
       "text": [
        "   A_23_P28224  A_23_P358345  CUST_16472_PI416261804  CUST_17139_PI416261804  \\\n",
        "0       8.8037        1.6248                  2.3772                  5.9888   \n",
        "1       8.9927        1.5055                  1.7143                  5.8315   \n",
        "2       8.6063        1.5778                  2.8595                  6.0884   \n",
        "3       8.5581        2.0678                  1.9892                  6.3405   \n",
        "4       8.7339        1.4767                  1.4731                  5.8716   \n",
        "5       8.4503        1.8223                  2.2234                  5.7434   \n",
        "6       8.7355        1.5104                  1.6819                  5.9797   \n",
        "7       8.9026        1.5253                  1.7685                  6.2411   \n",
        "8       8.7765        2.9994                  1.7939                  6.2621   \n",
        "9       8.9004        1.7628                  1.7252                  6.3940   \n",
        "\n",
        "   CUST_546_PI416408490  structure_id top_level_structure  \n",
        "0                6.8569          4055                  FL  \n",
        "1                6.5077          4079                  FL  \n",
        "2                6.5789          4079                  FL  \n",
        "3                6.6196          4079                  FL  \n",
        "4                6.4472          4080                  FL  \n",
        "5                6.4456          4080                  FL  \n",
        "6                6.8184          4890                  FL  \n",
        "7                6.6980          4890                  FL  \n",
        "8                6.8061          4048                  FL  \n",
        "9                6.9415          4048                  FL  "
       ]
      }
     ],
     "prompt_number": 36
    },
    {
     "cell_type": "code",
     "collapsed": false,
     "input": [
      "plt.plot(df.ix[:,1], df.ix[:,2], '.')"
     ],
     "language": "python",
     "metadata": {},
     "outputs": [
      {
       "metadata": {},
       "output_type": "pyout",
       "prompt_number": 7,
       "text": [
        "[<matplotlib.lines.Line2D at 0x1076778d0>]"
       ]
      },
      {
       "metadata": {},
       "output_type": "display_data",
       "png": "[encoded data removed]",
       "text": [
        "<matplotlib.figure.Figure at 0x107652110>"
       ]
      }
     ],
     "prompt_number": 7
    },
    {
     "cell_type": "code",
     "collapsed": false,
     "input": [
      "df_aggregated = df.groupby('top_level_structure').mean()"
     ],
     "language": "python",
     "metadata": {},
     "outputs": [],
     "prompt_number": 8
    },
    {
     "cell_type": "code",
     "collapsed": false,
     "input": [
      "nx = ny = df_aggregated.shape[1]\n",
      "fig, axes = plt.subplots(nx, ny, \n",
      "                         sharex='col', sharey='row',\n",
      "                         figsize=(8,6))\n",
      "for i in range(nx):\n",
      "    for j in range(ny):\n",
      "        if j != i:\n",
      "            axes[j, i].plot(df_aggregated.ix[:, i], \n",
      "                           df_aggregated.ix[:, j], '.', ms=3)\n",
      "        else:\n",
      "            axes[j,i].set_frame_on(False)\n",
      "            axes[j,i].text(0.5, 0.5, genes[df_aggregated.columns[i]],\n",
      "                           transform=axes[j,i].transAxes,\n",
      "                           va='center',\n",
      "                           ha='center')"
     ],
     "language": "python",
     "metadata": {},
     "outputs": [
      {
       "metadata": {},
       "output_type": "display_data",
       "png": "[encoded data removed]",
       "text": [
        "<matplotlib.figure.Figure at 0x10767fed0>"
       ]
      }
     ],
     "prompt_number": 9
    },
    {
     "cell_type": "code",
     "collapsed": false,
     "input": [
      "df_pure = df.ix[:,:-1]\n",
      "data = (np.array(df_pure))\n",
      "zscore = (data - data.mean(0))/data.std(0)"
     ],
     "language": "python",
     "metadata": {},
     "outputs": [],
     "prompt_number": 10
    },
    {
     "cell_type": "code",
     "collapsed": false,
     "input": [
      "plt.figure(figsize=(12,1))\n",
      "plt.imshow(zscore.T, aspect='auto', interpolation='nearest', cmap='seismic')\n",
      "plt.yticks(np.arange(len(df_pure.columns)), df_pure.columns)"
     ],
     "language": "python",
     "metadata": {},
     "outputs": [
      {
       "metadata": {},
       "output_type": "pyout",
       "prompt_number": 11,
       "text": [
        "([<matplotlib.axis.YTick at 0x107b8a490>,\n",
        "  <matplotlib.axis.YTick at 0x107af25d0>,\n",
        "  <matplotlib.axis.YTick at 0x107bb2b50>,\n",
        "  <matplotlib.axis.YTick at 0x107bd63d0>,\n",
        "  <matplotlib.axis.YTick at 0x107bd6b10>],\n",
        " <a list of 5 Text yticklabel objects>)"
       ]
      },
      {
       "metadata": {},
       "output_type": "display_data",
       "png": "[encoded data removed]",
       "text": [
        "<matplotlib.figure.Figure at 0x107682850>"
       ]
      }
     ],
     "prompt_number": 11
    },
    {
     "cell_type": "code",
     "collapsed": false,
     "input": [
      "probe_data['msg']['samples'][0]"
     ],
     "language": "python",
     "metadata": {},
     "outputs": [
      {
       "metadata": {},
       "output_type": "pyout",
       "prompt_number": 28,
       "text": [
        "{u'donor': {u'age': u'24 years',\n",
        "  u'color': u'EC891D',\n",
        "  u'id': 9861,\n",
        "  u'name': u'H0351.2001'},\n",
        " u'sample': {u'mri': [74, 96, 29], u'polygon': 27255, u'well': 154},\n",
        " u'structure': {u'abbreviation': u'AOrG',\n",
        "  u'color': u'E8BF59',\n",
        "  u'id': 4055,\n",
        "  u'name': u'anterior orbital gyrus, right'},\n",
        " u'top_level_structure': {u'abbreviation': u'FL',\n",
        "  u'color': u'E8CD59',\n",
        "  u'id': 4009,\n",
        "  u'name': u'frontal lobe'}}"
       ]
      }
     ],
     "prompt_number": 28
    },
    {
     "cell_type": "code",
     "collapsed": false,
     "input": [],
     "language": "python",
     "metadata": {},
     "outputs": []
    }
   ],
   "metadata": {}
  }
 ]
}