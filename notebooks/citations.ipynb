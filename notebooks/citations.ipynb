{
 "metadata": {
  "name": "",
  "signature": "sha256:d94f2404d7c4d70c2f01716ed8269d452f3479b115d18ed97bd7ee5c6d4a3a91"
 },
 "nbformat": 3,
 "nbformat_minor": 0,
 "worksheets": [
  {
   "cells": [
    {
     "cell_type": "code",
     "collapsed": false,
     "input": [
      "import urllib2\n",
      "from lxml import etree\n",
      "import json"
     ],
     "language": "python",
     "metadata": {},
     "outputs": [],
     "prompt_number": 1
    },
    {
     "cell_type": "code",
     "collapsed": false,
     "input": [
      "def find_dois(query, nmax=1000, sort=\"first+author\"):\n",
      "    url=\"http://eutils.ncbi.nlm.nih.gov/entrez/eutils/esearch.fcgi?db=pubmed&term={query}&retmax={retmax}&sort={sort}\"\n",
      "    full_url = url.format(query=query, retmax=nmax, sort=sort)\n",
      "    request = urllib2.urlopen(full_url)\n",
      "    content = request.read()\n",
      "\n",
      "    tree = etree.fromstring(content)\n",
      "    ids = tree.xpath('IdList/Id')\n",
      "    print len(ids)\n",
      "    dois = []\n",
      "    batch_size = 20\n",
      "    while ids:\n",
      "        pmids = \",\".join([pmid.text for pmid in ids[:batch_size]])\n",
      "\n",
      "        doc_query = 'http://eutils.ncbi.nlm.nih.gov/entrez/eutils/esummary.fcgi?db=pubmed&id={pmids}'\n",
      "        request = urllib2.urlopen(doc_query.format(pmids=pmids))\n",
      "        content = request.read()\n",
      "        tree = etree.fromstring(content)\n",
      "        elements = tree.xpath(\"//Item[@Name='doi']\")\n",
      "        dois += [e.text for e in elements]\n",
      "        ids = ids[batch_size:]\n",
      "    return dois    "
     ],
     "language": "python",
     "metadata": {},
     "outputs": [],
     "prompt_number": 94
    },
    {
     "cell_type": "code",
     "collapsed": false,
     "input": [
      "query=\"neuroscience+2010[pdat]\"\n",
      "dois =find_dois(query, nmax=1000)"
     ],
     "language": "python",
     "metadata": {},
     "outputs": [
      {
       "output_type": "stream",
       "stream": "stdout",
       "text": [
        "1000\n"
       ]
      }
     ],
     "prompt_number": 149
    },
    {
     "cell_type": "code",
     "collapsed": false,
     "input": [
      "print len(dois)"
     ],
     "language": "python",
     "metadata": {},
     "outputs": [
      {
       "output_type": "stream",
       "stream": "stdout",
       "text": [
        "881\n"
       ]
      }
     ],
     "prompt_number": 150
    },
    {
     "cell_type": "code",
     "collapsed": false,
     "input": [
      "def altmetric_score(dois):\n",
      "    scores = []\n",
      "    for doi in dois:\n",
      "        try:\n",
      "            request = urllib2.urlopen('http://api.altmetric.com/v1/doi/{doi}'.format(doi=doi))\n",
      "            metrics = json.load(request)\n",
      "            scores.append(metrics['score'])\n",
      "        except urllib2.HTTPError:\n",
      "            scores.append(None)\n",
      "        \n",
      "    return scores"
     ],
     "language": "python",
     "metadata": {},
     "outputs": [],
     "prompt_number": 121
    },
    {
     "cell_type": "code",
     "collapsed": false,
     "input": [
      "scores = altmetric_score(dois)"
     ],
     "language": "python",
     "metadata": {},
     "outputs": [],
     "prompt_number": 151
    },
    {
     "cell_type": "code",
     "collapsed": false,
     "input": [
      "import numpy as np\n",
      "scores = np.array(scores, dtype=np.float)"
     ],
     "language": "python",
     "metadata": {},
     "outputs": [],
     "prompt_number": 152
    },
    {
     "cell_type": "code",
     "collapsed": false,
     "input": [
      "scores = np.ma.masked_invalid(scores)"
     ],
     "language": "python",
     "metadata": {},
     "outputs": [],
     "prompt_number": 153
    },
    {
     "cell_type": "code",
     "collapsed": false,
     "input": [
      "scores"
     ],
     "language": "python",
     "metadata": {},
     "outputs": [
      {
       "metadata": {},
       "output_type": "pyout",
       "prompt_number": 158,
       "text": [
        "masked_array(data = [-- -- -- -- -- -- -- -- -- -- -- -- -- -- -- -- -- -- 6.752 19.05 -- -- --\n",
        " -- -- -- -- -- 1.0 -- 21.25 -- -- -- -- -- -- -- 1.0 -- -- -- -- -- 0.5 --\n",
        " -- -- -- -- -- -- -- -- -- -- -- -- 0.25 -- -- -- -- 1.25 -- -- -- -- --\n",
        " -- -- -- -- -- -- -- -- -- -- -- 9.17 -- -- -- 0.25 1.0 -- -- -- -- --\n",
        " 1.75 11.85 -- -- -- -- -- -- -- -- -- -- -- -- -- 1.0 0.25 -- -- 1.0 -- --\n",
        " -- -- -- -- -- -- -- -- -- -- -- -- -- 4.0 -- 2.0 0.25 -- -- -- -- 1.0 --\n",
        " -- -- -- -- -- -- -- -- -- -- -- -- -- -- -- -- -- -- 0.25 -- -- -- -- --\n",
        " -- -- 8.242 -- -- -- -- -- -- -- -- -- -- -- -- 0.25 -- -- -- -- -- -- --\n",
        " 19.242 -- -- -- -- -- -- -- -- -- -- -- -- -- -- -- -- -- -- -- -- -- --\n",
        " 0.25 -- -- -- 6.264 -- -- -- -- -- -- -- -- -- -- 5.784 -- -- 1.0 -- -- --\n",
        " -- -- 7.0 -- -- -- -- -- -- -- -- 16.466 2.7 -- -- -- 1.0 -- -- -- -- --\n",
        " -- -- -- -- -- -- -- -- -- -- -- -- -- -- -- -- 1.0 1.75 -- -- -- -- -- --\n",
        " -- -- -- 0.25 -- -- -- -- -- -- -- -- -- -- -- -- -- -- -- 8.12 -- -- --\n",
        " -- -- -- 49.912 1.85 1.0 -- -- -- -- -- -- -- -- -- -- -- -- -- -- 8.0 --\n",
        " -- -- -- -- -- -- -- 0.25 -- -- 9.0 -- -- 1.0 -- 1.0 -- 1.0 -- -- 2.25 --\n",
        " -- -- -- 0.25 -- 8.744 -- -- -- -- -- -- -- -- -- -- -- 1.5 -- -- -- -- --\n",
        " -- -- -- -- -- -- -- -- -- -- 1.25 -- -- -- -- -- -- -- -- -- -- -- -- --\n",
        " -- -- -- -- -- -- -- 1.0 -- 0.25 -- -- -- -- -- -- -- -- -- -- -- -- -- --\n",
        " -- -- 14.1 -- -- -- -- -- -- -- -- -- -- -- -- 1.0 -- -- 51.776 -- -- --\n",
        " -- -- 0.25 -- -- -- -- -- -- 1.25 -- -- -- -- -- -- -- -- -- -- -- -- --\n",
        " -- -- -- -- 0.25 -- -- -- -- -- -- -- 0.25 -- -- -- -- -- -- -- -- -- --\n",
        " -- -- 0.25 -- -- -- -- -- -- -- 1.1 -- -- 1.0 -- -- -- -- -- -- -- -- --\n",
        " -- -- -- 1.0 1.0 -- -- -- -- -- -- -- -- -- 8.904 -- -- -- -- -- -- -- --\n",
        " -- -- -- -- -- -- -- -- -- -- -- -- -- -- -- -- -- -- 7.096 -- -- -- -- --\n",
        " -- -- -- -- -- -- -- -- -- 1.0 -- -- -- 0.25 -- -- -- -- -- -- -- 2.95 --\n",
        " -- -- 1.0 -- 1.0 -- 51.684 -- -- -- 6.664 -- -- -- -- -- 0.25 -- -- -- --\n",
        " -- -- -- -- -- -- -- -- -- -- -- -- -- -- -- -- -- -- -- 0.5 -- -- -- --\n",
        " -- 1.0 -- -- -- -- -- -- -- -- -- -- -- -- -- -- -- -- 1.0 -- 1.0 -- -- --\n",
        " -- -- -- -- -- 22.266 -- -- -- -- -- -- -- -- -- -- -- -- 1.0 -- -- -- --\n",
        " -- -- -- 0.25 7.426 -- 2.0 -- -- -- -- -- -- 1.0 -- -- -- -- -- -- -- --\n",
        " 1.0 -- -- -- -- -- -- -- 0.75 -- -- -- -- -- -- -- -- -- -- -- 2.35 -- --\n",
        " -- -- -- -- -- -- -- -- -- 22.55 9.0 -- -- -- -- -- 5.0 -- -- -- -- -- --\n",
        " -- -- -- -- -- -- -- -- -- -- -- -- -- 1.0 -- -- -- -- -- 9.0 -- -- -- --\n",
        " -- -- -- 0.5 -- -- -- -- -- -- -- -- -- -- -- 30.754 -- 1.0 -- -- 50.0 --\n",
        " -- 5.1 -- -- 1.25 -- -- -- -- -- 0.5 -- 8.784 -- -- 0.25 -- -- -- -- -- --\n",
        " 14.248 -- -- -- -- -- -- -- 3.0 -- -- 6.376 -- -- -- -- -- -- -- -- -- --\n",
        " -- -- 27.7 -- -- -- -- -- -- -- -- -- -- -- -- -- -- -- -- 1.0 -- -- -- --\n",
        " -- -- -- -- -- -- -- -- -- -- -- -- -- -- -- -- -- -- -- 11.5 -- -- -- --\n",
        " -- -- -- 1.0 -- -- -- 16.08 -- --],\n",
        "             mask = [ True  True  True  True  True  True  True  True  True  True  True  True\n",
        "  True  True  True  True  True  True False False  True  True  True  True\n",
        "  True  True  True  True False  True False  True  True  True  True  True\n",
        "  True  True False  True  True  True  True  True False  True  True  True\n",
        "  True  True  True  True  True  True  True  True  True  True False  True\n",
        "  True  True  True False  True  True  True  True  True  True  True  True\n",
        "  True  True  True  True  True  True  True  True False  True  True  True\n",
        " False False  True  True  True  True  True False False  True  True  True\n",
        "  True  True  True  True  True  True  True  True  True  True False False\n",
        "  True  True False  True  True  True  True  True  True  True  True  True\n",
        "  True  True  True  True  True  True False  True False False  True  True\n",
        "  True  True False  True  True  True  True  True  True  True  True  True\n",
        "  True  True  True  True  True  True  True  True  True  True False  True\n",
        "  True  True  True  True  True  True False  True  True  True  True  True\n",
        "  True  True  True  True  True  True  True False  True  True  True  True\n",
        "  True  True  True False  True  True  True  True  True  True  True  True\n",
        "  True  True  True  True  True  True  True  True  True  True  True  True\n",
        "  True  True False  True  True  True False  True  True  True  True  True\n",
        "  True  True  True  True  True False  True  True False  True  True  True\n",
        "  True  True False  True  True  True  True  True  True  True  True False\n",
        " False  True  True  True False  True  True  True  True  True  True  True\n",
        "  True  True  True  True  True  True  True  True  True  True  True  True\n",
        "  True  True False False  True  True  True  True  True  True  True  True\n",
        "  True False  True  True  True  True  True  True  True  True  True  True\n",
        "  True  True  True  True  True False  True  True  True  True  True  True\n",
        " False False False  True  True  True  True  True  True  True  True  True\n",
        "  True  True  True  True  True False  True  True  True  True  True  True\n",
        "  True  True False  True  True False  True  True False  True False  True\n",
        " False  True  True False  True  True  True  True False  True False  True\n",
        "  True  True  True  True  True  True  True  True  True  True False  True\n",
        "  True  True  True  True  True  True  True  True  True  True  True  True\n",
        "  True  True False  True  True  True  True  True  True  True  True  True\n",
        "  True  True  True  True  True  True  True  True  True  True  True False\n",
        "  True False  True  True  True  True  True  True  True  True  True  True\n",
        "  True  True  True  True  True  True False  True  True  True  True  True\n",
        "  True  True  True  True  True  True  True False  True  True False  True\n",
        "  True  True  True  True False  True  True  True  True  True  True False\n",
        "  True  True  True  True  True  True  True  True  True  True  True  True\n",
        "  True  True  True  True  True False  True  True  True  True  True  True\n",
        "  True False  True  True  True  True  True  True  True  True  True  True\n",
        "  True  True False  True  True  True  True  True  True  True False  True\n",
        "  True False  True  True  True  True  True  True  True  True  True  True\n",
        "  True  True False False  True  True  True  True  True  True  True  True\n",
        "  True False  True  True  True  True  True  True  True  True  True  True\n",
        "  True  True  True  True  True  True  True  True  True  True  True  True\n",
        "  True  True  True  True False  True  True  True  True  True  True  True\n",
        "  True  True  True  True  True  True  True False  True  True  True False\n",
        "  True  True  True  True  True  True  True False  True  True  True False\n",
        "  True False  True False  True  True  True False  True  True  True  True\n",
        "  True False  True  True  True  True  True  True  True  True  True  True\n",
        "  True  True  True  True  True  True  True  True  True  True  True  True\n",
        "  True False  True  True  True  True  True False  True  True  True  True\n",
        "  True  True  True  True  True  True  True  True  True  True  True  True\n",
        " False  True False  True  True  True  True  True  True  True  True False\n",
        "  True  True  True  True  True  True  True  True  True  True  True  True\n",
        " False  True  True  True  True  True  True  True False False  True False\n",
        "  True  True  True  True  True  True False  True  True  True  True  True\n",
        "  True  True  True False  True  True  True  True  True  True  True False\n",
        "  True  True  True  True  True  True  True  True  True  True  True False\n",
        "  True  True  True  True  True  True  True  True  True  True  True False\n",
        " False  True  True  True  True  True False  True  True  True  True  True\n",
        "  True  True  True  True  True  True  True  True  True  True  True  True\n",
        "  True  True False  True  True  True  True  True False  True  True  True\n",
        "  True  True  True  True False  True  True  True  True  True  True  True\n",
        "  True  True  True  True False  True False  True  True False  True  True\n",
        " False  True  True False  True  True  True  True  True False  True False\n",
        "  True  True False  True  True  True  True  True  True False  True  True\n",
        "  True  True  True  True  True False  True  True False  True  True  True\n",
        "  True  True  True  True  True  True  True  True  True False  True  True\n",
        "  True  True  True  True  True  True  True  True  True  True  True  True\n",
        "  True  True False  True  True  True  True  True  True  True  True  True\n",
        "  True  True  True  True  True  True  True  True  True  True  True  True\n",
        "  True  True False  True  True  True  True  True  True  True False  True\n",
        "  True  True False  True  True],\n",
        "       fill_value = 1e+20)"
       ]
      }
     ],
     "prompt_number": 158
    },
    {
     "cell_type": "code",
     "collapsed": false,
     "input": [
      "scores = np.array(scores, dtype=np.float)\n",
      "dois = np.array(dois)\n",
      "table = np.rec.fromarrays([dois, scores], names='doi,altmetric')"
     ],
     "language": "python",
     "metadata": {},
     "outputs": [],
     "prompt_number": 159
    },
    {
     "cell_type": "code",
     "collapsed": false,
     "input": [
      "from matplotlib import mlab\n",
      "mlab.rec2csv(table, '../data/neuroscience_articles.csv',)"
     ],
     "language": "python",
     "metadata": {},
     "outputs": [],
     "prompt_number": 160
    },
    {
     "cell_type": "code",
     "collapsed": false,
     "input": [
      "!head ../data/neuroscience_articles.csv"
     ],
     "language": "python",
     "metadata": {},
     "outputs": [
      {
       "output_type": "stream",
       "stream": "stdout",
       "text": [
        "doi,altmetric\r",
        "\r\n",
        "10.1111/j.1471-4159.2010.06942.x,nan\r",
        "\r\n",
        "10.1016/j.humov.2010.08.009,nan\r",
        "\r\n",
        "10.1242/dmm.006999,nan\r",
        "\r\n",
        "10.1242/dmm.006981,nan\r",
        "\r\n",
        "10.1126/science.330.6005.771,nan\r",
        "\r\n",
        "10.1037/a0020635,nan\r",
        "\r\n",
        "10.1037/a0020514,nan\r",
        "\r\n",
        "10.1037/a0020633,nan\r",
        "\r\n",
        "10.1037/0003-066X.65.8.715,nan\r",
        "\r\n"
       ]
      }
     ],
     "prompt_number": 161
    },
    {
     "cell_type": "code",
     "collapsed": false,
     "input": [
      "import matplotlib.pyplot as plt\n",
      "%matplotlib inline\n",
      "plt.hist(scores[~np.isnan(scores)])"
     ],
     "language": "python",
     "metadata": {},
     "outputs": [
      {
       "metadata": {},
       "output_type": "pyout",
       "prompt_number": 165,
       "text": [
        "(array([ 74.,  18.,   4.,   4.,   3.,   2.,   0.,   0.,   0.,   4.]),\n",
        " array([  0.25  ,   5.4026,  10.5552,  15.7078,  20.8604,  26.013 ,\n",
        "         31.1656,  36.3182,  41.4708,  46.6234,  51.776 ]),\n",
        " <a list of 10 Patch objects>)"
       ]
      },
      {
       "metadata": {},
       "output_type": "display_data",
       "png": "[encoded data removed]",
       "text": [
        "<matplotlib.figure.Figure at 0x110dac3d0>"
       ]
      }
     ],
     "prompt_number": 165
    },
    {
     "cell_type": "code",
     "collapsed": false,
     "input": [
      "plt.show()"
     ],
     "language": "python",
     "metadata": {},
     "outputs": [],
     "prompt_number": 166
    },
    {
     "cell_type": "code",
     "collapsed": false,
     "input": [],
     "language": "python",
     "metadata": {},
     "outputs": []
    }
   ],
   "metadata": {}
  }
 ]
}