{
 "metadata": {
  "name": "",
  "signature": "sha256:50d8fb626235fb1668fe8cf9f8c2486b067f91c1bd96be4aedc7a304fe426987"
 },
 "nbformat": 3,
 "nbformat_minor": 0,
 "worksheets": [
  {
   "cells": [
    {
     "cell_type": "code",
     "collapsed": false,
     "input": [
      "import matplotlib\n",
      "\n",
      "import matplotlib.pyplot as plt\n",
      "import numpy as np\n",
      "import pandas as pd\n",
      "\n",
      "%matplotlib inline\n",
      "matplotlib.rcParams['savefig.dpi'] = 300\n",
      "#%config InlineBackend.figure_format = 'svg'"
     ],
     "language": "python",
     "metadata": {},
     "outputs": [],
     "prompt_number": 1
    },
    {
     "cell_type": "code",
     "collapsed": false,
     "input": [
      "api_url = \"http://api.brain-map.org/api/v2/data/\"\n",
      "query_expression = \"query.json?criteria=service::human_microarray_expression[probes$eq{probes}][donor$eq{donor}]\"\n",
      "query_probes = \"query.xml?criteria=model::Probe,rma::criteria,[probe_type$eq'DNA'],products[abbreviation$eq'HumanMA'],gene[acronym$in{geneid}],rma::options[only$eq'probes.id']\"\n",
      "\n",
      "donor = \"'H035.2001'\"\n",
      "gene_ids=\"'SLC6A2','SCN1A'\""
     ],
     "language": "python",
     "metadata": {},
     "outputs": [],
     "prompt_number": 2
    },
    {
     "cell_type": "code",
     "collapsed": false,
     "input": [
      "from urllib2 import urlopen\n",
      "from contextlib import closing\n",
      "import json\n",
      "from lxml import etree\n",
      "\n",
      "request_url = api_url + query_probes.format(geneid=gene_ids)\n",
      "\n",
      "with closing(urlopen(request_url)) as response:\n",
      "    xml_data = response.read()\n",
      "    tree = etree.fromstring(xml_data)\n",
      "\n",
      "probes = ','.join([t.text for t in tree.xpath('//probe/id')])\n",
      "\n",
      "request_url = api_url + query_expression.format(probes=probes, donor=donor)\n",
      "with closing(urlopen(request_url)) as response:\n",
      "    probe_data = json.load(response)['msg']"
     ],
     "language": "python",
     "metadata": {},
     "outputs": [],
     "prompt_number": 3
    },
    {
     "cell_type": "code",
     "collapsed": false,
     "input": [
      "expr_lvls    = {prb['name']: map(float, prb['expression_level'])\n",
      "                for prb in probe_data['probes']}\n",
      "structures   = [s['top_level_structure']['abbreviation'] \n",
      "                for s in probe_data['samples']]\n",
      "structure_id = [s['structure']['id'] \n",
      "                for s in probe_data['samples']]\n",
      "genes        = {prb['name']: prb['gene-symbol']\n",
      "                for prb in probe_data['probes']}\n",
      "expr_lvls.update({'top_level_structure' : structures,\n",
      "                  'structure_id' : structure_id})\n",
      "\n",
      "df = pd.DataFrame(expr_lvls)\n",
      "df.to_csv('../data/allen_brain_atlas.csv', index=False)"
     ],
     "language": "python",
     "metadata": {},
     "outputs": [],
     "prompt_number": 4
    }
   ],
   "metadata": {}
  }
 ]
}