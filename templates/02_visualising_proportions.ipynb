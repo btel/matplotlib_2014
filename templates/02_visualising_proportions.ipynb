{
 "metadata": {
  "name": "",
  "signature": "sha256:ec5251804f290abadf0e12ed008394cdd10d38e5267a9ee2d789a6e7f1b22072"
 },
 "nbformat": 3,
 "nbformat_minor": 0,
 "worksheets": [
  {
   "cells": [
    {
     "cell_type": "code",
     "collapsed": false,
     "input": [
      "import matplotlib.pyplot as plt\n",
      "import numpy as np\n",
      "from goodies import as_table\n",
      "\n",
      "%matplotlib inline"
     ],
     "language": "python",
     "metadata": {},
     "outputs": []
    },
    {
     "cell_type": "code",
     "collapsed": false,
     "input": [
      "import sqlite3\n",
      "\n",
      "sql_query = \"\"\"\n",
      "SELECT country1, teams.title as country2, winner  \n",
      "FROM ( SELECT teams.title as country1, team2_id, winner \n",
      "       FROM (SELECT team1_id, team2_id, winner \n",
      "             FROM games \n",
      "             INNER JOIN rounds on games.round_id=rounds.id \n",
      "             WHERE rounds.title='Final') t1 \n",
      "       INNER JOIN teams on teams.id=t1.team1_id) t2 \n",
      "INNER JOIN teams on teams.id=t2.team2_id;\n",
      "\"\"\"\n",
      "\n",
      "db = sqlite3.connect('../data/worldcup.db')\n",
      "cur = db.execute(sql_query)\n",
      "\n",
      "arr = np.fromiter(cur, dtype=[('country1', 'S30'),\n",
      "                              ('country2', 'S30'),\n",
      "                              ('winner', 'i2')])\n",
      "\n",
      "arr['country1'] = np.char.replace(arr['country1'], \n",
      "                                  'West Germany (-1989)', 'Germany')\n",
      "arr['country2'] = np.char.replace(arr['country2'], \n",
      "                                  'West Germany (-1989)', 'Germany')"
     ],
     "language": "python",
     "metadata": {},
     "outputs": []
    }
   ],
   "metadata": {}
  }
 ]
}