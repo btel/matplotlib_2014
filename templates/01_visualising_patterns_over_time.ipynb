{
 "metadata": {
  "name": "",
  "signature": "sha256:bb82c00f86a2816846a8d01c692fef47969e2711cb294f6712aff8dd55857fa1"
 },
 "nbformat": 3,
 "nbformat_minor": 0,
 "worksheets": [
  {
   "cells": [
    {
     "cell_type": "code",
     "collapsed": false,
     "input": [
      "%matplotlib inline\n",
      "import matplotlib.pyplot as plt\n",
      "import matplotlib.dates as mdates\n",
      "import numpy as np"
     ],
     "language": "python",
     "metadata": {},
     "outputs": []
    },
    {
     "cell_type": "code",
     "collapsed": false,
     "input": [
      "!head '../data/paris_weather.dat'"
     ],
     "language": "python",
     "metadata": {},
     "outputs": []
    }
   ],
   "metadata": {}
  }
 ]
}