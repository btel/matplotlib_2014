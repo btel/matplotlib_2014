{
 "metadata": {
  "name": "",
  "signature": "sha256:57f6782678890a49276566ccde9f93ce5e2d61811487b5dd9cde4bb36371f0cd"
 },
 "nbformat": 3,
 "nbformat_minor": 0,
 "worksheets": [
  {
   "cells": [
    {
     "cell_type": "code",
     "collapsed": false,
     "input": [
      "import matplotlib.pyplot as plt\n",
      "import numpy as np\n",
      "\n",
      "%matplotlib inline"
     ],
     "language": "python",
     "metadata": {},
     "outputs": []
    },
    {
     "cell_type": "code",
     "collapsed": false,
     "input": [
      "import pandas as pd\n",
      "\n",
      "df = pd.read_csv('../data/gdp_wordbank.csv', \n",
      "                 index_col=[1,2], na_values=['..'])\n",
      "df.sortlevel(inplace=True)\n",
      "\n",
      "from IPython.display import HTML\n",
      "HTML(df.loc[( slice('NY.GDP.PCAP.KD', 'NY.GDP.PCAP.KN'),\n",
      "              slice('Andorra','Angola')), :]\n",
      "        .ix[:,:5]\n",
      "        .to_html())"
     ],
     "language": "python",
     "metadata": {},
     "outputs": []
    }
   ],
   "metadata": {}
  }
 ]
}