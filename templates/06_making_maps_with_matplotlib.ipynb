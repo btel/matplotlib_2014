{
 "metadata": {
  "name": "",
  "signature": "sha256:2d42f009270ce580858e83608f20dfc630dd09c7b8316b9d14127b240667c742"
 },
 "nbformat": 3,
 "nbformat_minor": 0,
 "worksheets": [
  {
   "cells": [
    {
     "cell_type": "code",
     "collapsed": false,
     "input": [
      "import matplotlib.pyplot as plt\n",
      "\n",
      "import matplotlib\n",
      "\n",
      "import numpy as np\n",
      "from matplotlib import mlab\n",
      "from goodies import as_table\n",
      "\n",
      "%matplotlib inline\n",
      "matplotlib.rcParams['savefig.dpi'] = 300"
     ],
     "language": "python",
     "metadata": {},
     "outputs": []
    },
    {
     "cell_type": "code",
     "collapsed": false,
     "input": [
      "import netCDF4\n",
      "dataset = netCDF4.Dataset('../data/maps/avhrr-only-v2.20140101.nc')"
     ],
     "language": "python",
     "metadata": {},
     "outputs": []
    },
    {
     "cell_type": "code",
     "collapsed": false,
     "input": [
      "shapes = cartopy.io.shapereader.Reader(\n",
      "            '../data/maps/rgp_population/rgp_population')"
     ],
     "language": "python",
     "metadata": {},
     "outputs": []
    },
    {
     "cell_type": "code",
     "collapsed": false,
     "input": [
      "gl = cartopy.crs.Globe(ellipse='GRS80')\n",
      "prj = cartopy.crs.LambertConformal(central_latitude=46.5, \n",
      "                                   central_longitude=3.,\n",
      "                                   secant_latitudes=(49, 44),\n",
      "                                   false_easting=700000,\n",
      "                                   false_northing=6600000)"
     ],
     "language": "python",
     "metadata": {},
     "outputs": []
    }
   ],
   "metadata": {}
  }
 ]
}