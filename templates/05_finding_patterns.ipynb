{
 "metadata": {
  "name": "",
  "signature": "sha256:d0b07e84982b5437b224feb9a1f95abff13c82b81b7bff95bf3bc753d2a20ccf"
 },
 "nbformat": 3,
 "nbformat_minor": 0,
 "worksheets": [
  {
   "cells": [
    {
     "cell_type": "code",
     "collapsed": false,
     "input": [
      "import numpy as np\n",
      "import matplotlib\n",
      "import matplotlib.pyplot as plt\n",
      "import pandas as pd\n",
      "\n",
      "%matplotlib inline\n",
      "matplotlib.rcParams['savefig.dpi'] = 300\n"
     ],
     "language": "python",
     "metadata": {},
     "outputs": []
    },
    {
     "cell_type": "code",
     "collapsed": false,
     "input": [
      "df = pd.read_csv('../data/allen_brain_atlas.csv')"
     ],
     "language": "python",
     "metadata": {},
     "outputs": []
    },
    {
     "cell_type": "code",
     "collapsed": false,
     "input": [
      "from lxml import etree\n",
      "with file('../data/brain_atlas.svg') as fid:\n",
      "    svg = etree.fromstring(fid.read())\n",
      "with file('../data/ontology.xml') as fid:\n",
      "    ontology = etree.fromstring(fid.read())\n",
      "def color_svg(svg, ontology, data_ids, labels, colors):\n",
      "    show = []\n",
      "    unique_data_ids = np.unique(data_ids)\n",
      "    paths = svg.xpath('//*[@structure_id]')\n",
      "    ulabels = np.unique(labels)\n",
      "    class_members = [data_ids[labels==l] for l in ulabels]\n",
      "    n_members = np.array([len(c) for c in class_members])\n",
      "    for p in paths:\n",
      "        sid = p.get('structure_id')\n",
      "        el = ontology.xpath('//structure[id={}]'.format(sid))[0]\n",
      "        descendants = []\n",
      "        for i in unique_data_ids:\n",
      "            if i==sid or el.xpath('descendant::structure[id={}]'.format(i)):\n",
      "                descendants.append(i)\n",
      "        if descendants:\n",
      "            descendants = np.array(descendants)\n",
      "            n_probes = np.array([np.sum(np.in1d(cl, descendants)) \n",
      "                                 for cl in class_members])\n",
      "            frac = n_probes*1./n_members\n",
      "            dominating = np.argmax(frac)\n",
      "            r, g, b = (np.array(colors[dominating])*255).astype(int)[:3]\n",
      "            p.set('style', 'fill: rgb({},{},{}); stroke: none'.format(r,g,b))\n",
      "        else:\n",
      "            p.set('style', 'fill: rgb(255,255,255); stroke: none')\n",
      "    return svg\n",
      "\n",
      "from IPython.display import SVG\n",
      "class_colors = get_colors(np.unique(labels), 'hsv')\n",
      "new_svg = color_svg(svg, ontology, df.structure_id, labels, class_colors)"
     ],
     "language": "python",
     "metadata": {},
     "outputs": []
    },
    {
     "cell_type": "code",
     "collapsed": false,
     "input": [
      "SVG(etree.tostring(new_svg))"
     ],
     "language": "python",
     "metadata": {},
     "outputs": []
    }
   ],
   "metadata": {}
  }
 ]
}